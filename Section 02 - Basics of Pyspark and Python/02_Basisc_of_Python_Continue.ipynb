{
 "cells": [
  {
   "cell_type": "markdown",
   "id": "c17e77c3",
   "metadata": {},
   "source": [
    "## Basisc of Python Continue"
   ]
  },
  {
   "cell_type": "code",
   "execution_count": 1,
   "id": "8f4658a9",
   "metadata": {},
   "outputs": [],
   "source": [
    "a = 'is'\n",
    "b = 'nice'"
   ]
  },
  {
   "cell_type": "code",
   "execution_count": 2,
   "id": "f412fa87",
   "metadata": {},
   "outputs": [],
   "source": [
    "my_list = ['my', 'list', a, b]"
   ]
  },
  {
   "cell_type": "code",
   "execution_count": 3,
   "id": "f839b5a0",
   "metadata": {},
   "outputs": [],
   "source": [
    "my_list_02 = [[4, 5, 6, 7], [3, 4, 5, 6]]"
   ]
  },
  {
   "cell_type": "code",
   "execution_count": 4,
   "id": "7eca47a8",
   "metadata": {},
   "outputs": [],
   "source": [
    "my_list.append('!')"
   ]
  },
  {
   "cell_type": "code",
   "execution_count": 5,
   "id": "4652135d",
   "metadata": {},
   "outputs": [
    {
     "data": {
      "text/plain": [
       "['my', 'list', 'is', 'nice', '!']"
      ]
     },
     "execution_count": 5,
     "metadata": {},
     "output_type": "execute_result"
    }
   ],
   "source": [
    "my_list"
   ]
  },
  {
   "cell_type": "code",
   "execution_count": 6,
   "id": "3770c9d9",
   "metadata": {},
   "outputs": [],
   "source": [
    "my_list.remove('!')"
   ]
  },
  {
   "cell_type": "code",
   "execution_count": 7,
   "id": "4d343ce3",
   "metadata": {},
   "outputs": [
    {
     "data": {
      "text/plain": [
       "['my', 'list', 'is', 'nice']"
      ]
     },
     "execution_count": 7,
     "metadata": {},
     "output_type": "execute_result"
    }
   ],
   "source": [
    "my_list"
   ]
  },
  {
   "cell_type": "code",
   "execution_count": 8,
   "id": "3f599529",
   "metadata": {},
   "outputs": [],
   "source": [
    "del(my_list[0:1])"
   ]
  },
  {
   "cell_type": "code",
   "execution_count": 9,
   "id": "3e5debbf",
   "metadata": {},
   "outputs": [
    {
     "data": {
      "text/plain": [
       "['list', 'is', 'nice']"
      ]
     },
     "execution_count": 9,
     "metadata": {},
     "output_type": "execute_result"
    }
   ],
   "source": [
    "my_list"
   ]
  },
  {
   "cell_type": "code",
   "execution_count": 10,
   "id": "f5f92d0f",
   "metadata": {},
   "outputs": [],
   "source": [
    "my_list.reverse()"
   ]
  },
  {
   "cell_type": "code",
   "execution_count": 11,
   "id": "8a3780e4",
   "metadata": {},
   "outputs": [
    {
     "data": {
      "text/plain": [
       "['nice', 'is', 'list']"
      ]
     },
     "execution_count": 11,
     "metadata": {},
     "output_type": "execute_result"
    }
   ],
   "source": [
    "my_list"
   ]
  },
  {
   "cell_type": "code",
   "execution_count": null,
   "id": "0ca5af47",
   "metadata": {},
   "outputs": [],
   "source": []
  }
 ],
 "metadata": {
  "kernelspec": {
   "display_name": "Python 3 (ipykernel)",
   "language": "python",
   "name": "python3"
  },
  "language_info": {
   "codemirror_mode": {
    "name": "ipython",
    "version": 3
   },
   "file_extension": ".py",
   "mimetype": "text/x-python",
   "name": "python",
   "nbconvert_exporter": "python",
   "pygments_lexer": "ipython3",
   "version": "3.9.7"
  }
 },
 "nbformat": 4,
 "nbformat_minor": 5
}
