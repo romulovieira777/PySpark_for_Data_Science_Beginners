{
  "cells": [
    {
      "cell_type": "markdown",
      "id": "c17e77c3",
      "metadata": {
        "id": "c17e77c3"
      },
      "source": [
        "## Basisc of Python Continue"
      ]
    },
    {
      "cell_type": "code",
      "execution_count": 1,
      "id": "8f4658a9",
      "metadata": {
        "id": "8f4658a9"
      },
      "outputs": [],
      "source": [
        "a = 'is'\n",
        "b = 'nice'"
      ]
    },
    {
      "cell_type": "code",
      "execution_count": 2,
      "id": "f412fa87",
      "metadata": {
        "id": "f412fa87"
      },
      "outputs": [],
      "source": [
        "my_list = ['my', 'list', a, b]"
      ]
    },
    {
      "cell_type": "code",
      "execution_count": 3,
      "id": "f839b5a0",
      "metadata": {
        "id": "f839b5a0"
      },
      "outputs": [],
      "source": [
        "my_list_02 = [[4, 5, 6, 7], [3, 4, 5, 6]]"
      ]
    },
    {
      "cell_type": "code",
      "execution_count": 4,
      "id": "7eca47a8",
      "metadata": {
        "id": "7eca47a8"
      },
      "outputs": [],
      "source": [
        "my_list.append('!')"
      ]
    },
    {
      "cell_type": "code",
      "execution_count": 5,
      "id": "4652135d",
      "metadata": {
        "colab": {
          "base_uri": "https://localhost:8080/"
        },
        "id": "4652135d",
        "outputId": "bf0404cd-f4d5-4b13-dc76-5d4daccea0c3"
      },
      "outputs": [
        {
          "output_type": "execute_result",
          "data": {
            "text/plain": [
              "['my', 'list', 'is', 'nice', '!']"
            ]
          },
          "metadata": {},
          "execution_count": 5
        }
      ],
      "source": [
        "my_list"
      ]
    },
    {
      "cell_type": "code",
      "execution_count": 6,
      "id": "3770c9d9",
      "metadata": {
        "id": "3770c9d9"
      },
      "outputs": [],
      "source": [
        "my_list.remove('!')"
      ]
    },
    {
      "cell_type": "code",
      "execution_count": 7,
      "id": "4d343ce3",
      "metadata": {
        "colab": {
          "base_uri": "https://localhost:8080/"
        },
        "id": "4d343ce3",
        "outputId": "029986d2-f72b-41b6-f8fa-be9ed9692afd"
      },
      "outputs": [
        {
          "output_type": "execute_result",
          "data": {
            "text/plain": [
              "['my', 'list', 'is', 'nice']"
            ]
          },
          "metadata": {},
          "execution_count": 7
        }
      ],
      "source": [
        "my_list"
      ]
    },
    {
      "cell_type": "code",
      "execution_count": 8,
      "id": "3f599529",
      "metadata": {
        "id": "3f599529"
      },
      "outputs": [],
      "source": [
        "del(my_list[0:1])"
      ]
    },
    {
      "cell_type": "code",
      "execution_count": 9,
      "id": "3e5debbf",
      "metadata": {
        "colab": {
          "base_uri": "https://localhost:8080/"
        },
        "id": "3e5debbf",
        "outputId": "9eca7956-0b81-4886-dde4-237ba940922b"
      },
      "outputs": [
        {
          "output_type": "execute_result",
          "data": {
            "text/plain": [
              "['list', 'is', 'nice']"
            ]
          },
          "metadata": {},
          "execution_count": 9
        }
      ],
      "source": [
        "my_list"
      ]
    },
    {
      "cell_type": "code",
      "execution_count": 10,
      "id": "f5f92d0f",
      "metadata": {
        "id": "f5f92d0f"
      },
      "outputs": [],
      "source": [
        "my_list.reverse()"
      ]
    },
    {
      "cell_type": "code",
      "execution_count": 11,
      "id": "8a3780e4",
      "metadata": {
        "colab": {
          "base_uri": "https://localhost:8080/"
        },
        "id": "8a3780e4",
        "outputId": "c27187b3-2c67-4864-f4c2-c07fc16e2ea8"
      },
      "outputs": [
        {
          "output_type": "execute_result",
          "data": {
            "text/plain": [
              "['nice', 'is', 'list']"
            ]
          },
          "metadata": {},
          "execution_count": 11
        }
      ],
      "source": [
        "my_list"
      ]
    },
    {
      "cell_type": "code",
      "execution_count": 12,
      "id": "0ca5af47",
      "metadata": {
        "id": "0ca5af47"
      },
      "outputs": [],
      "source": [
        "my_list.extend('!')"
      ]
    },
    {
      "cell_type": "code",
      "execution_count": 13,
      "id": "dafb44c5",
      "metadata": {
        "colab": {
          "base_uri": "https://localhost:8080/"
        },
        "id": "dafb44c5",
        "outputId": "106a27c1-bd25-4951-db65-ec4bca5ef9d4"
      },
      "outputs": [
        {
          "output_type": "execute_result",
          "data": {
            "text/plain": [
              "['nice', 'is', 'list', '!']"
            ]
          },
          "metadata": {},
          "execution_count": 13
        }
      ],
      "source": [
        "my_list"
      ]
    },
    {
      "cell_type": "code",
      "execution_count": 14,
      "id": "5c3abb9a",
      "metadata": {
        "colab": {
          "base_uri": "https://localhost:8080/",
          "height": 35
        },
        "id": "5c3abb9a",
        "outputId": "fcfd8da1-ef53-4883-a0bf-55b2ebae043b"
      },
      "outputs": [
        {
          "output_type": "execute_result",
          "data": {
            "application/vnd.google.colaboratory.intrinsic+json": {
              "type": "string"
            },
            "text/plain": [
              "'!'"
            ]
          },
          "metadata": {},
          "execution_count": 14
        }
      ],
      "source": [
        "my_list.pop(-1)"
      ]
    },
    {
      "cell_type": "code",
      "execution_count": 15,
      "id": "484559c0",
      "metadata": {
        "colab": {
          "base_uri": "https://localhost:8080/"
        },
        "id": "484559c0",
        "outputId": "70087191-67f4-46d8-814f-59c0c4093270"
      },
      "outputs": [
        {
          "output_type": "execute_result",
          "data": {
            "text/plain": [
              "['nice', 'is', 'list']"
            ]
          },
          "metadata": {},
          "execution_count": 15
        }
      ],
      "source": [
        "my_list"
      ]
    },
    {
      "cell_type": "code",
      "execution_count": 16,
      "id": "594bfdeb",
      "metadata": {
        "id": "594bfdeb"
      },
      "outputs": [],
      "source": [
        "my_list.insert(0, '!')"
      ]
    },
    {
      "cell_type": "code",
      "execution_count": 17,
      "id": "f6b5636f",
      "metadata": {
        "colab": {
          "base_uri": "https://localhost:8080/"
        },
        "id": "f6b5636f",
        "outputId": "bc1484aa-1ed9-424b-d751-ae9cf4e0a7bf"
      },
      "outputs": [
        {
          "output_type": "execute_result",
          "data": {
            "text/plain": [
              "['!', 'nice', 'is', 'list']"
            ]
          },
          "metadata": {},
          "execution_count": 17
        }
      ],
      "source": [
        "my_list"
      ]
    },
    {
      "cell_type": "code",
      "execution_count": 18,
      "id": "6e45a6a9",
      "metadata": {
        "id": "6e45a6a9"
      },
      "outputs": [],
      "source": [
        "my_list.sort()"
      ]
    },
    {
      "cell_type": "code",
      "execution_count": 19,
      "id": "b03c241e",
      "metadata": {
        "colab": {
          "base_uri": "https://localhost:8080/"
        },
        "id": "b03c241e",
        "outputId": "ce69ebb9-6fb2-4409-d9b4-8339ba291f5f"
      },
      "outputs": [
        {
          "output_type": "execute_result",
          "data": {
            "text/plain": [
              "['!', 'is', 'list', 'nice']"
            ]
          },
          "metadata": {},
          "execution_count": 19
        }
      ],
      "source": [
        "my_list"
      ]
    },
    {
      "cell_type": "code",
      "execution_count": 20,
      "id": "f80a806a",
      "metadata": {
        "id": "f80a806a"
      },
      "outputs": [],
      "source": [
        "my_str = \"thisStringIsAwesome\""
      ]
    },
    {
      "cell_type": "code",
      "execution_count": 21,
      "id": "0cab7f76",
      "metadata": {
        "colab": {
          "base_uri": "https://localhost:8080/",
          "height": 35
        },
        "id": "0cab7f76",
        "outputId": "11f2674a-3cc9-449e-f5ec-5c04d9c70b43"
      },
      "outputs": [
        {
          "output_type": "execute_result",
          "data": {
            "application/vnd.google.colaboratory.intrinsic+json": {
              "type": "string"
            },
            "text/plain": [
              "'s'"
            ]
          },
          "metadata": {},
          "execution_count": 21
        }
      ],
      "source": [
        "my_str[3]"
      ]
    },
    {
      "cell_type": "code",
      "execution_count": 22,
      "id": "e9521d64",
      "metadata": {
        "colab": {
          "base_uri": "https://localhost:8080/",
          "height": 35
        },
        "id": "e9521d64",
        "outputId": "fa7b1478-07b9-4368-c42c-be08c55fe813"
      },
      "outputs": [
        {
          "output_type": "execute_result",
          "data": {
            "application/vnd.google.colaboratory.intrinsic+json": {
              "type": "string"
            },
            "text/plain": [
              "'Strin'"
            ]
          },
          "metadata": {},
          "execution_count": 22
        }
      ],
      "source": [
        "my_str[4:9]"
      ]
    },
    {
      "cell_type": "code",
      "execution_count": 23,
      "id": "85cd4f4a",
      "metadata": {
        "colab": {
          "base_uri": "https://localhost:8080/",
          "height": 35
        },
        "id": "85cd4f4a",
        "outputId": "5e57b70d-66ea-415f-fb60-4702074bbb0a"
      },
      "outputs": [
        {
          "output_type": "execute_result",
          "data": {
            "application/vnd.google.colaboratory.intrinsic+json": {
              "type": "string"
            },
            "text/plain": [
              "'THISSTRINGISAWESOME'"
            ]
          },
          "metadata": {},
          "execution_count": 23
        }
      ],
      "source": [
        "my_str.upper()"
      ]
    },
    {
      "cell_type": "code",
      "execution_count": 24,
      "id": "21ca7d96",
      "metadata": {
        "colab": {
          "base_uri": "https://localhost:8080/",
          "height": 35
        },
        "id": "21ca7d96",
        "outputId": "a4aafbec-7cf3-4e66-bf9c-174333e933f4"
      },
      "outputs": [
        {
          "output_type": "execute_result",
          "data": {
            "application/vnd.google.colaboratory.intrinsic+json": {
              "type": "string"
            },
            "text/plain": [
              "'thisstringisawesome'"
            ]
          },
          "metadata": {},
          "execution_count": 24
        }
      ],
      "source": [
        "my_str.lower()"
      ]
    },
    {
      "cell_type": "code",
      "execution_count": 25,
      "id": "e7656493",
      "metadata": {
        "colab": {
          "base_uri": "https://localhost:8080/"
        },
        "id": "e7656493",
        "outputId": "8dec9ff5-8061-4a8b-f20e-5c436d9f16e0"
      },
      "outputs": [
        {
          "output_type": "execute_result",
          "data": {
            "text/plain": [
              "1"
            ]
          },
          "metadata": {},
          "execution_count": 25
        }
      ],
      "source": [
        "my_str.count('w')"
      ]
    },
    {
      "cell_type": "code",
      "execution_count": 26,
      "id": "01cc0834",
      "metadata": {
        "colab": {
          "base_uri": "https://localhost:8080/"
        },
        "id": "01cc0834",
        "outputId": "aa872604-2051-4418-be54-e67364dff92a"
      },
      "outputs": [
        {
          "output_type": "execute_result",
          "data": {
            "text/plain": [
              "2"
            ]
          },
          "metadata": {},
          "execution_count": 26
        }
      ],
      "source": [
        "my_str.count('i')"
      ]
    },
    {
      "cell_type": "code",
      "execution_count": 27,
      "id": "a5bb7db7",
      "metadata": {
        "colab": {
          "base_uri": "https://localhost:8080/",
          "height": 35
        },
        "id": "a5bb7db7",
        "outputId": "f4a486c4-e04a-494c-88da-a72df37c6f49"
      },
      "outputs": [
        {
          "output_type": "execute_result",
          "data": {
            "application/vnd.google.colaboratory.intrinsic+json": {
              "type": "string"
            },
            "text/plain": [
              "'thisStringIsAwisomi'"
            ]
          },
          "metadata": {},
          "execution_count": 27
        }
      ],
      "source": [
        "my_str.replace('e', 'i')"
      ]
    },
    {
      "cell_type": "code",
      "execution_count": 28,
      "id": "d920d583",
      "metadata": {
        "colab": {
          "base_uri": "https://localhost:8080/",
          "height": 35
        },
        "id": "d920d583",
        "outputId": "5d82160d-957c-4546-a2bd-96f0b67a54da"
      },
      "outputs": [
        {
          "output_type": "execute_result",
          "data": {
            "application/vnd.google.colaboratory.intrinsic+json": {
              "type": "string"
            },
            "text/plain": [
              "'thisStringIsAwesome'"
            ]
          },
          "metadata": {},
          "execution_count": 28
        }
      ],
      "source": [
        "my_str.strip()"
      ]
    },
    {
      "cell_type": "code",
      "execution_count": 29,
      "id": "30d6a02e",
      "metadata": {
        "id": "30d6a02e"
      },
      "outputs": [],
      "source": [
        "import numpy\n",
        "import numpy as np"
      ]
    },
    {
      "cell_type": "code",
      "execution_count": 30,
      "id": "4c957327",
      "metadata": {
        "id": "4c957327"
      },
      "outputs": [],
      "source": [
        "from math import pi"
      ]
    },
    {
      "cell_type": "code",
      "execution_count": 31,
      "id": "88284e85",
      "metadata": {
        "id": "88284e85"
      },
      "outputs": [],
      "source": [
        "my_list = [1, 2, 3, 4]"
      ]
    },
    {
      "cell_type": "code",
      "execution_count": 32,
      "id": "ade03796",
      "metadata": {
        "id": "ade03796"
      },
      "outputs": [],
      "source": [
        "my_arr = np.array(my_list)"
      ]
    },
    {
      "cell_type": "code",
      "execution_count": 33,
      "id": "4a98f5b5",
      "metadata": {
        "id": "4a98f5b5"
      },
      "outputs": [],
      "source": [
        "my_2darr = np.array([[1, 2, 3], [4, 5, 6]])"
      ]
    },
    {
      "cell_type": "code",
      "execution_count": 34,
      "id": "b1308e77",
      "metadata": {
        "colab": {
          "base_uri": "https://localhost:8080/"
        },
        "id": "b1308e77",
        "outputId": "af00b147-529f-4434-bf89-865c65f4c9c9"
      },
      "outputs": [
        {
          "output_type": "execute_result",
          "data": {
            "text/plain": [
              "2"
            ]
          },
          "metadata": {},
          "execution_count": 34
        }
      ],
      "source": [
        "my_arr[1]"
      ]
    },
    {
      "cell_type": "code",
      "source": [
        "my_arr[0:2]"
      ],
      "metadata": {
        "colab": {
          "base_uri": "https://localhost:8080/"
        },
        "id": "7zkhdVsrnU_t",
        "outputId": "bca3d5e0-5c2a-4912-b697-aec348d0255e"
      },
      "id": "7zkhdVsrnU_t",
      "execution_count": 35,
      "outputs": [
        {
          "output_type": "execute_result",
          "data": {
            "text/plain": [
              "array([1, 2])"
            ]
          },
          "metadata": {},
          "execution_count": 35
        }
      ]
    },
    {
      "cell_type": "code",
      "source": [
        "my_2darr[:,0]"
      ],
      "metadata": {
        "colab": {
          "base_uri": "https://localhost:8080/"
        },
        "id": "oxM2jtC-nYk8",
        "outputId": "e079370b-ca58-43ed-fd27-6f181b0bad60"
      },
      "id": "oxM2jtC-nYk8",
      "execution_count": 36,
      "outputs": [
        {
          "output_type": "execute_result",
          "data": {
            "text/plain": [
              "array([1, 4])"
            ]
          },
          "metadata": {},
          "execution_count": 36
        }
      ]
    },
    {
      "cell_type": "code",
      "source": [
        "my_arr > 3"
      ],
      "metadata": {
        "colab": {
          "base_uri": "https://localhost:8080/"
        },
        "id": "gu3G-f3unbsr",
        "outputId": "5ab62e45-5763-438f-bf2e-9cda5e146fbc"
      },
      "id": "gu3G-f3unbsr",
      "execution_count": 37,
      "outputs": [
        {
          "output_type": "execute_result",
          "data": {
            "text/plain": [
              "array([False, False, False,  True])"
            ]
          },
          "metadata": {},
          "execution_count": 37
        }
      ]
    },
    {
      "cell_type": "code",
      "source": [
        "my_arr * 2"
      ],
      "metadata": {
        "colab": {
          "base_uri": "https://localhost:8080/"
        },
        "id": "ic7U9HJFne6s",
        "outputId": "5d9f904b-95d1-4634-b032-6e1f1650010e"
      },
      "id": "ic7U9HJFne6s",
      "execution_count": 38,
      "outputs": [
        {
          "output_type": "execute_result",
          "data": {
            "text/plain": [
              "array([2, 4, 6, 8])"
            ]
          },
          "metadata": {},
          "execution_count": 38
        }
      ]
    },
    {
      "cell_type": "code",
      "source": [
        "my_arr + np.array([5, 6, 7, 8])"
      ],
      "metadata": {
        "colab": {
          "base_uri": "https://localhost:8080/"
        },
        "id": "VMk-WZoCnhBE",
        "outputId": "00dce593-0044-403a-a5f8-70c4d79b60c5"
      },
      "id": "VMk-WZoCnhBE",
      "execution_count": 39,
      "outputs": [
        {
          "output_type": "execute_result",
          "data": {
            "text/plain": [
              "array([ 6,  8, 10, 12])"
            ]
          },
          "metadata": {},
          "execution_count": 39
        }
      ]
    },
    {
      "cell_type": "code",
      "source": [
        "my_arr.shape"
      ],
      "metadata": {
        "colab": {
          "base_uri": "https://localhost:8080/"
        },
        "id": "AdVY8eF0nmjM",
        "outputId": "f39a8d66-e69b-4eab-9cfa-ec8c61c330c3"
      },
      "id": "AdVY8eF0nmjM",
      "execution_count": 40,
      "outputs": [
        {
          "output_type": "execute_result",
          "data": {
            "text/plain": [
              "(4,)"
            ]
          },
          "metadata": {},
          "execution_count": 40
        }
      ]
    },
    {
      "cell_type": "code",
      "source": [
        "np.array(my_arr)"
      ],
      "metadata": {
        "colab": {
          "base_uri": "https://localhost:8080/"
        },
        "id": "Zd2HQyA9nsmM",
        "outputId": "8dd2772f-5307-4542-994d-368e77164889"
      },
      "id": "Zd2HQyA9nsmM",
      "execution_count": 41,
      "outputs": [
        {
          "output_type": "execute_result",
          "data": {
            "text/plain": [
              "array([1, 2, 3, 4])"
            ]
          },
          "metadata": {},
          "execution_count": 41
        }
      ]
    },
    {
      "cell_type": "code",
      "source": [
        "np.insert(my_arr, 1, 5)"
      ],
      "metadata": {
        "colab": {
          "base_uri": "https://localhost:8080/"
        },
        "id": "4Hg1AYEenwTs",
        "outputId": "f6f13441-172f-4bf3-8fe3-571675ef70f8"
      },
      "id": "4Hg1AYEenwTs",
      "execution_count": 42,
      "outputs": [
        {
          "output_type": "execute_result",
          "data": {
            "text/plain": [
              "array([1, 5, 2, 3, 4])"
            ]
          },
          "metadata": {},
          "execution_count": 42
        }
      ]
    },
    {
      "cell_type": "code",
      "source": [
        "np.mean(my_arr)"
      ],
      "metadata": {
        "colab": {
          "base_uri": "https://localhost:8080/"
        },
        "id": "rpNKQMk7n0cb",
        "outputId": "c0de82e0-cdb3-403c-8f0f-5e5d95f13641"
      },
      "id": "rpNKQMk7n0cb",
      "execution_count": 43,
      "outputs": [
        {
          "output_type": "execute_result",
          "data": {
            "text/plain": [
              "2.5"
            ]
          },
          "metadata": {},
          "execution_count": 43
        }
      ]
    },
    {
      "cell_type": "code",
      "source": [
        "np.median(my_arr)"
      ],
      "metadata": {
        "colab": {
          "base_uri": "https://localhost:8080/"
        },
        "id": "UVYtAcjnn4Gr",
        "outputId": "c18fc222-fb99-4eff-ec2f-d6ca31a3c99c"
      },
      "id": "UVYtAcjnn4Gr",
      "execution_count": 44,
      "outputs": [
        {
          "output_type": "execute_result",
          "data": {
            "text/plain": [
              "2.5"
            ]
          },
          "metadata": {},
          "execution_count": 44
        }
      ]
    },
    {
      "cell_type": "code",
      "source": [
        "np.corrcoef(my_arr)"
      ],
      "metadata": {
        "colab": {
          "base_uri": "https://localhost:8080/"
        },
        "id": "hOmnXob9n5K1",
        "outputId": "d61438f2-bb2b-48c5-d9d8-b8dd85083106"
      },
      "id": "hOmnXob9n5K1",
      "execution_count": 45,
      "outputs": [
        {
          "output_type": "execute_result",
          "data": {
            "text/plain": [
              "1.0"
            ]
          },
          "metadata": {},
          "execution_count": 45
        }
      ]
    },
    {
      "cell_type": "code",
      "source": [
        "np.std(my_arr)"
      ],
      "metadata": {
        "colab": {
          "base_uri": "https://localhost:8080/"
        },
        "id": "JKpI0CP1n8x0",
        "outputId": "373e6356-a0bc-4cf8-b8d2-7f3464d84b2c"
      },
      "id": "JKpI0CP1n8x0",
      "execution_count": 46,
      "outputs": [
        {
          "output_type": "execute_result",
          "data": {
            "text/plain": [
              "1.118033988749895"
            ]
          },
          "metadata": {},
          "execution_count": 46
        }
      ]
    }
  ],
  "metadata": {
    "kernelspec": {
      "display_name": "Python 3 (ipykernel)",
      "language": "python",
      "name": "python3"
    },
    "language_info": {
      "codemirror_mode": {
        "name": "ipython",
        "version": 3
      },
      "file_extension": ".py",
      "mimetype": "text/x-python",
      "name": "python",
      "nbconvert_exporter": "python",
      "pygments_lexer": "ipython3",
      "version": "3.9.7"
    },
    "colab": {
      "name": "02_Basisc_of_Python_Continue.ipynb",
      "provenance": []
    }
  },
  "nbformat": 4,
  "nbformat_minor": 5
}